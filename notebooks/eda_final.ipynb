{
 "cells": [
  {
   "cell_type": "markdown",
   "id": "f207fc8a-1e02-4b16-9bd3-1fba4629d83a",
   "metadata": {},
   "source": [
    "Final EDA"
   ]
  },
  {
   "cell_type": "markdown",
<<<<<<< Updated upstream
   "id": "a170a0b3",
   "metadata": {},
   "source": [
    "Esteban"
=======
   "id": "553d8b5c",
   "metadata": {},
   "source": [
    "conflict"
>>>>>>> Stashed changes
   ]
  },
  {
   "cell_type": "code",
   "execution_count": 1,
   "id": "d926e969-c10a-48bb-9b9d-5fded6f6a341",
   "metadata": {},
   "outputs": [
    {
     "name": "stdout",
     "output_type": "stream",
     "text": [
      "hello\n"
     ]
    }
   ],
   "source": [
    "print(\"hello\")"
   ]
  }
 ],
 "metadata": {
  "colab": {
   "name": "Welcome to DataCamp Workspaces.ipynb",
   "provenance": []
  },
  "kernelspec": {
   "display_name": "climate-analysis",
   "language": "python",
   "name": "python3"
  },
  "language_info": {
   "codemirror_mode": {
    "name": "ipython",
    "version": 3
   },
   "file_extension": ".py",
   "mimetype": "text/x-python",
   "name": "python",
   "nbconvert_exporter": "python",
   "pygments_lexer": "ipython3",
   "version": "3.10.16"
  }
 },
 "nbformat": 4,
 "nbformat_minor": 5
}
