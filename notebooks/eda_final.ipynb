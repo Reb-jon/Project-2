{
 "cells": [
  {
   "cell_type": "markdown",
   "id": "f207fc8a-1e02-4b16-9bd3-1fba4629d83a",
   "metadata": {},
   "source": [
    "Final EDA"
   ]
  },
  {
   "cell_type": "code",
   "execution_count": null,
   "id": "d926e969-c10a-48bb-9b9d-5fded6f6a341",
   "metadata": {},
   "outputs": [],
   "source": [
    "print(\"hello\")"
   ]
  }
 ],
 "metadata": {
  "colab": {
   "name": "Welcome to DataCamp Workspaces.ipynb",
   "provenance": []
  },
  "kernelspec": {
   "display_name": "Python 3 (ipykernel)",
   "language": "python",
   "name": "python3"
  },
  "language_info": {
   "codemirror_mode": {
    "name": "ipython",
    "version": 3
   },
   "file_extension": ".py",
   "mimetype": "text/x-python",
   "name": "python",
   "nbconvert_exporter": "python",
   "pygments_lexer": "ipython3",
   "version": "3.8.10"
  }
 },
 "nbformat": 4,
 "nbformat_minor": 5
}
